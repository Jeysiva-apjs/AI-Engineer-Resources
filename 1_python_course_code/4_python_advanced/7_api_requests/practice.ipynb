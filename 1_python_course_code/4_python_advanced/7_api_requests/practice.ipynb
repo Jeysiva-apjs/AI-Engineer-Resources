{
 "cells": [
  {
   "cell_type": "code",
   "execution_count": 1,
   "id": "769a5b9f-2d0f-4ca5-b7a2-30de0edff4f8",
   "metadata": {},
   "outputs": [],
   "source": [
    "import requests"
   ]
  },
  {
   "cell_type": "code",
   "execution_count": 14,
   "id": "0f0e74a5-25a2-4da1-b2d0-454c4b42c70d",
   "metadata": {},
   "outputs": [
    {
     "name": "stdout",
     "output_type": "stream",
     "text": [
      "Request is successful...\n",
      "{'userId': 1, 'id': 1, 'title': 'delectus aut autem', 'completed': False}\n"
     ]
    }
   ],
   "source": [
    "url = \"https://jsonplaceholder.typicode.com/todos/1\"\n",
    "\n",
    "response = requests.get(url)\n",
    "if response.status_code == 200:\n",
    "    data = response.json()\n",
    "    print(\"Request is successful...\")\n",
    "    print(data)\n",
    "else:\n",
    "    print(\"Bad Request... \", response.status_code)"
   ]
  },
  {
   "cell_type": "code",
   "execution_count": 22,
   "id": "43ed4211-81df-4cdb-b18e-c5598ad4ba33",
   "metadata": {},
   "outputs": [
    {
     "name": "stdout",
     "output_type": "stream",
     "text": [
      "Successfully created post\n",
      "{'userId': '1', 'id': 101, 'title': 'Python mastery', 'body': 'Follow codebasics bootcamp'}\n"
     ]
    }
   ],
   "source": [
    "url = \"https://jsonplaceholder.typicode.com/posts\"\n",
    "data = {\n",
    "    \"userId\": 1,\n",
    "    \"id\": 1,\n",
    "    \"title\": \"Python mastery\",\n",
    "    \"body\": \"Follow codebasics bootcamp\"\n",
    "}\n",
    "\n",
    "response = requests.post(url, data)\n",
    "if response.status_code == 201:\n",
    "    print(\"Successfully created post\")\n",
    "    data = response.json()\n",
    "    print(data)\n",
    "    "
   ]
  },
  {
   "cell_type": "code",
   "execution_count": null,
   "id": "afe0193b-2ea5-493b-b9e1-87fa00314475",
   "metadata": {},
   "outputs": [],
   "source": []
  }
 ],
 "metadata": {
  "kernelspec": {
   "display_name": "Python 3 (myenv)",
   "language": "python",
   "name": "myenv"
  },
  "language_info": {
   "codemirror_mode": {
    "name": "ipython",
    "version": 3
   },
   "file_extension": ".py",
   "mimetype": "text/x-python",
   "name": "python",
   "nbconvert_exporter": "python",
   "pygments_lexer": "ipython3",
   "version": "3.13.0"
  }
 },
 "nbformat": 4,
 "nbformat_minor": 5
}
