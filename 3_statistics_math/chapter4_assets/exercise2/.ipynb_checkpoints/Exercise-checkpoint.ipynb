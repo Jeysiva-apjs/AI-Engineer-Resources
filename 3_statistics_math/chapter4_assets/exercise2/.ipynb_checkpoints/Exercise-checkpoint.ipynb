{
 "cells": [
  {
   "cell_type": "markdown",
   "id": "8475b7b0",
   "metadata": {},
   "source": [
    "## Problem Statement\n",
    "\n",
    "You work for a fitness company and have gathered data on the fitness activities of 50 individuals using fitness trackers. The dataset is stored in an Excel file named \"fitness_data.xlsx\" and includes the following columns:\n",
    "\n",
    "- **name:** Name of the person.\n",
    "- **steps_taken:** The number of steps taken by individuals.\n",
    "- **calories_burned:** The estimated calories burned by individuals.\n",
    "- **sleep_duration(hours):** The number of hours of sleep individuals got on that day.\n",
    "- **water_intake(ounces):** The amount of water individuals consumed.\n"
   ]
  },
  {
   "cell_type": "code",
   "execution_count": null,
   "id": "3a9ca3e3",
   "metadata": {},
   "outputs": [],
   "source": []
  },
  {
   "cell_type": "markdown",
   "id": "d6ed840b",
   "metadata": {},
   "source": [
    "**Import Necessary Libraries**"
   ]
  },
  {
   "cell_type": "code",
   "execution_count": 1,
   "id": "ad014d43",
   "metadata": {},
   "outputs": [],
   "source": [
    "import pandas as pd\n",
    "import numpy as np\n",
    "import matplotlib.pyplot as plt"
   ]
  },
  {
   "cell_type": "markdown",
   "id": "a52c1332",
   "metadata": {},
   "source": [
    "## Task1\n",
    "\n",
    "1. Import the data from the \"fitness_data.xlsx\" Excel file.\n",
    "2. Display the first few rows of the dataset to get an overview.\n",
    "3. Calculate and display basic statistics (mean, median, min, max) for each column.\n"
   ]
  },
  {
   "cell_type": "code",
   "execution_count": 3,
   "id": "e2a3229f",
   "metadata": {},
   "outputs": [
    {
     "data": {
      "text/html": [
       "<div>\n",
       "<style scoped>\n",
       "    .dataframe tbody tr th:only-of-type {\n",
       "        vertical-align: middle;\n",
       "    }\n",
       "\n",
       "    .dataframe tbody tr th {\n",
       "        vertical-align: top;\n",
       "    }\n",
       "\n",
       "    .dataframe thead th {\n",
       "        text-align: right;\n",
       "    }\n",
       "</style>\n",
       "<table border=\"1\" class=\"dataframe\">\n",
       "  <thead>\n",
       "    <tr style=\"text-align: right;\">\n",
       "      <th></th>\n",
       "      <th>name</th>\n",
       "      <th>steps_taken</th>\n",
       "      <th>calories_burned</th>\n",
       "      <th>sleep_duration(hours)</th>\n",
       "      <th>water_intake(ounces)</th>\n",
       "    </tr>\n",
       "  </thead>\n",
       "  <tbody>\n",
       "    <tr>\n",
       "      <th>0</th>\n",
       "      <td>Akshay</td>\n",
       "      <td>10500</td>\n",
       "      <td>4500</td>\n",
       "      <td>7.5</td>\n",
       "      <td>80</td>\n",
       "    </tr>\n",
       "    <tr>\n",
       "      <th>1</th>\n",
       "      <td>Priya</td>\n",
       "      <td>9800</td>\n",
       "      <td>4200</td>\n",
       "      <td>7.2</td>\n",
       "      <td>75</td>\n",
       "    </tr>\n",
       "    <tr>\n",
       "      <th>2</th>\n",
       "      <td>Raj</td>\n",
       "      <td>11500</td>\n",
       "      <td>4800</td>\n",
       "      <td>7.0</td>\n",
       "      <td>90</td>\n",
       "    </tr>\n",
       "    <tr>\n",
       "      <th>3</th>\n",
       "      <td>Emily</td>\n",
       "      <td>12000</td>\n",
       "      <td>5000</td>\n",
       "      <td>7.8</td>\n",
       "      <td>85</td>\n",
       "    </tr>\n",
       "    <tr>\n",
       "      <th>4</th>\n",
       "      <td>Rohit</td>\n",
       "      <td>8900</td>\n",
       "      <td>4000</td>\n",
       "      <td>7.0</td>\n",
       "      <td>70</td>\n",
       "    </tr>\n",
       "  </tbody>\n",
       "</table>\n",
       "</div>"
      ],
      "text/plain": [
       "     name  steps_taken  calories_burned  sleep_duration(hours)  \\\n",
       "0  Akshay        10500             4500                    7.5   \n",
       "1   Priya         9800             4200                    7.2   \n",
       "2     Raj        11500             4800                    7.0   \n",
       "3   Emily        12000             5000                    7.8   \n",
       "4   Rohit         8900             4000                    7.0   \n",
       "\n",
       "   water_intake(ounces)  \n",
       "0                    80  \n",
       "1                    75  \n",
       "2                    90  \n",
       "3                    85  \n",
       "4                    70  "
      ]
     },
     "execution_count": 3,
     "metadata": {},
     "output_type": "execute_result"
    }
   ],
   "source": [
    "df = pd.read_excel('fitness_data.xlsx')\n",
    "df.head()"
   ]
  },
  {
   "cell_type": "code",
   "execution_count": 4,
   "id": "d40d72fe-928b-4f7f-b76a-611fdc4efdb2",
   "metadata": {},
   "outputs": [
    {
     "data": {
      "text/plain": [
       "(50, 5)"
      ]
     },
     "execution_count": 4,
     "metadata": {},
     "output_type": "execute_result"
    }
   ],
   "source": [
    "df.shape"
   ]
  },
  {
   "cell_type": "code",
   "execution_count": 21,
   "id": "0b3da379-de7a-4833-bfed-eb2ab646029f",
   "metadata": {},
   "outputs": [
    {
     "data": {
      "text/html": [
       "<div>\n",
       "<style scoped>\n",
       "    .dataframe tbody tr th:only-of-type {\n",
       "        vertical-align: middle;\n",
       "    }\n",
       "\n",
       "    .dataframe tbody tr th {\n",
       "        vertical-align: top;\n",
       "    }\n",
       "\n",
       "    .dataframe thead th {\n",
       "        text-align: right;\n",
       "    }\n",
       "</style>\n",
       "<table border=\"1\" class=\"dataframe\">\n",
       "  <thead>\n",
       "    <tr style=\"text-align: right;\">\n",
       "      <th></th>\n",
       "      <th>steps_taken</th>\n",
       "      <th>calories_burned</th>\n",
       "      <th>sleep_duration(hours)</th>\n",
       "      <th>water_intake(ounces)</th>\n",
       "    </tr>\n",
       "  </thead>\n",
       "  <tbody>\n",
       "    <tr>\n",
       "      <th>count</th>\n",
       "      <td>50.000000</td>\n",
       "      <td>50.000000</td>\n",
       "      <td>50.000000</td>\n",
       "      <td>50.000000</td>\n",
       "    </tr>\n",
       "    <tr>\n",
       "      <th>mean</th>\n",
       "      <td>10316.000000</td>\n",
       "      <td>4418.000000</td>\n",
       "      <td>7.396000</td>\n",
       "      <td>79.600000</td>\n",
       "    </tr>\n",
       "    <tr>\n",
       "      <th>std</th>\n",
       "      <td>1177.052701</td>\n",
       "      <td>370.708092</td>\n",
       "      <td>1.660951</td>\n",
       "      <td>14.457538</td>\n",
       "    </tr>\n",
       "    <tr>\n",
       "      <th>min</th>\n",
       "      <td>8000.000000</td>\n",
       "      <td>3700.000000</td>\n",
       "      <td>4.000000</td>\n",
       "      <td>30.000000</td>\n",
       "    </tr>\n",
       "    <tr>\n",
       "      <th>25%</th>\n",
       "      <td>9625.000000</td>\n",
       "      <td>4200.000000</td>\n",
       "      <td>7.000000</td>\n",
       "      <td>70.000000</td>\n",
       "    </tr>\n",
       "    <tr>\n",
       "      <th>50%</th>\n",
       "      <td>10250.000000</td>\n",
       "      <td>4400.000000</td>\n",
       "      <td>7.200000</td>\n",
       "      <td>80.000000</td>\n",
       "    </tr>\n",
       "    <tr>\n",
       "      <th>75%</th>\n",
       "      <td>11000.000000</td>\n",
       "      <td>4700.000000</td>\n",
       "      <td>7.500000</td>\n",
       "      <td>90.000000</td>\n",
       "    </tr>\n",
       "    <tr>\n",
       "      <th>max</th>\n",
       "      <td>15000.000000</td>\n",
       "      <td>5500.000000</td>\n",
       "      <td>18.000000</td>\n",
       "      <td>100.000000</td>\n",
       "    </tr>\n",
       "  </tbody>\n",
       "</table>\n",
       "</div>"
      ],
      "text/plain": [
       "        steps_taken  calories_burned  sleep_duration(hours)  \\\n",
       "count     50.000000        50.000000              50.000000   \n",
       "mean   10316.000000      4418.000000               7.396000   \n",
       "std     1177.052701       370.708092               1.660951   \n",
       "min     8000.000000      3700.000000               4.000000   \n",
       "25%     9625.000000      4200.000000               7.000000   \n",
       "50%    10250.000000      4400.000000               7.200000   \n",
       "75%    11000.000000      4700.000000               7.500000   \n",
       "max    15000.000000      5500.000000              18.000000   \n",
       "\n",
       "       water_intake(ounces)  \n",
       "count             50.000000  \n",
       "mean              79.600000  \n",
       "std               14.457538  \n",
       "min               30.000000  \n",
       "25%               70.000000  \n",
       "50%               80.000000  \n",
       "75%               90.000000  \n",
       "max              100.000000  "
      ]
     },
     "execution_count": 21,
     "metadata": {},
     "output_type": "execute_result"
    }
   ],
   "source": [
    "df.describe()"
   ]
  },
  {
   "cell_type": "code",
   "execution_count": 17,
   "id": "06c9dafc",
   "metadata": {},
   "outputs": [
    {
     "name": "stdout",
     "output_type": "stream",
     "text": [
      "Steps Taken: \n",
      "\tMean: 10316.0\n",
      "\tMedian: 10250.0\n",
      "\tMin: 8000\n",
      "\tMax: 15000\n"
     ]
    }
   ],
   "source": [
    "print(f\"Steps Taken: \\n\\tMean: {df['steps_taken'].mean()}\\n\\tMedian: {df['steps_taken'].median()}\"\n",
    "        + f\"\\n\\tMin: {df['steps_taken'].min()}\\n\\tMax: {df['steps_taken'].max()}\")"
   ]
  },
  {
   "cell_type": "code",
   "execution_count": 18,
   "id": "6b26e10c-7052-4f48-91a1-a0f1230ff929",
   "metadata": {},
   "outputs": [
    {
     "name": "stdout",
     "output_type": "stream",
     "text": [
      "Calories_burned: \n",
      "\tMean: 4418.0\n",
      "\tMedian: 4400.0\n",
      "\tMin: 3700\n",
      "\tMax: 5500\n"
     ]
    }
   ],
   "source": [
    "print(f\"Calories_burned: \\n\\tMean: {df['calories_burned'].mean()}\\n\\tMedian: {df['calories_burned'].median()}\" +\n",
    "        f\"\\n\\tMin: {df['calories_burned'].min()}\\n\\tMax: {df['calories_burned'].max()}\")"
   ]
  },
  {
   "cell_type": "code",
   "execution_count": 19,
   "id": "61ea3233-d2c6-40f5-9767-303a30e9c3cc",
   "metadata": {},
   "outputs": [
    {
     "name": "stdout",
     "output_type": "stream",
     "text": [
      "sleep_duration(hours): \n",
      "\tMean: 7.396\n",
      "\tMedian: 7.2\n",
      "\tMin: 4.0\n",
      "\tMax: 18.0\n"
     ]
    }
   ],
   "source": [
    "print(f\"sleep_duration(hours): \\n\\tMean: {df['sleep_duration(hours)'].mean()}\\n\\tMedian: {df['sleep_duration(hours)'].median()}\" +\n",
    "        f\"\\n\\tMin: {df['sleep_duration(hours)'].min()}\\n\\tMax: {df['sleep_duration(hours)'].max()}\")"
   ]
  },
  {
   "cell_type": "code",
   "execution_count": 20,
   "id": "b2504e8e-1e67-47ed-be50-af7201ef099d",
   "metadata": {},
   "outputs": [
    {
     "name": "stdout",
     "output_type": "stream",
     "text": [
      "water_intake(ounces): \n",
      "\tMean: 79.6\n",
      "\tMedian: 80.0\n",
      "\tMin: 30\n",
      "\tMax: 100\n"
     ]
    }
   ],
   "source": [
    "print(f\"water_intake(ounces): \\n\\tMean: {df['water_intake(ounces)'].mean()}\\n\\tMedian: {df['water_intake(ounces)'].median()}\" +\n",
    "        f\"\\n\\tMin: {df['water_intake(ounces)'].min()}\\n\\tMax: {df['water_intake(ounces)'].max()}\")"
   ]
  },
  {
   "cell_type": "markdown",
   "id": "3fe8167c",
   "metadata": {},
   "source": [
    "## Task2:  Range and IQR\n",
    "\n",
    "1. Calculate the range of \"steps_taken\".\n",
    "2. Calculate the range of \"calories_burned\".\n",
    "3. Calculate the Interquartile Range (IQR) for \"sleep_duration(hours)\".\n",
    "4. Calculate the IQR for \"water_intake(ounces)\"."
   ]
  },
  {
   "cell_type": "code",
   "execution_count": 23,
   "id": "3fa325b8",
   "metadata": {},
   "outputs": [
    {
     "name": "stdout",
     "output_type": "stream",
     "text": [
      "steps_taken_range: 7000\n",
      "calories_burned_range: 1800\n",
      "sleep_duration_iqr: 0.5\n",
      "water_intake_iqr: 20.0\n"
     ]
    }
   ],
   "source": [
    "# Calculate the range of \"steps_taken\" for the entire week\n",
    "steps_taken_range = df['steps_taken'].max() - df['steps_taken'].min()\n",
    "\n",
    "# Calculate the range of \"calories_burned\" for the entire week\n",
    "calories_burned_range = df['calories_burned'].max() - df['calories_burned'].min()\n",
    "\n",
    "\n",
    "# Calculate the Interquartile Range (IQR) for \"sleep_duration(hours)\"\n",
    "sleep_duration_iqr = df['sleep_duration(hours)'].quantile(0.75) - df['sleep_duration(hours)'].quantile(0.25)\n",
    "\n",
    "# Calculate the IQR for \"water_intake(ounces)\"\n",
    "water_intake_iqr = df['water_intake(ounces)'].quantile(0.75) - df['water_intake(ounces)'].quantile(0.25)\n",
    "\n",
    "\n",
    "# Print the results\n",
    "print(f\"steps_taken_range: {steps_taken_range}\")\n",
    "print(f\"calories_burned_range: {calories_burned_range}\")\n",
    "print(f\"sleep_duration_iqr: {sleep_duration_iqr}\")\n",
    "print(f\"water_intake_iqr: {water_intake_iqr}\")"
   ]
  },
  {
   "cell_type": "markdown",
   "id": "a62c412c",
   "metadata": {},
   "source": [
    "## Task3: Box Plot for Steps Taken\n",
    "\n",
    "- Create a box plot for the \"steps_taken\" column to visualize the distribution of daily steps taken by individuals. Interpret the box plot and identify any outliers."
   ]
  },
  {
   "cell_type": "code",
   "execution_count": 51,
   "id": "a71cfa71",
   "metadata": {},
   "outputs": [
    {
     "data": {
      "image/png": "[encoded data removed]",
      "text/plain": [
       "<Figure size 600x600 with 1 Axes>"
      ]
     },
     "metadata": {},
     "output_type": "display_data"
    }
   ],
   "source": [
    "# Set the figure size\n",
    "plt.figure(figsize=(6,6))\n",
    "\n",
    "# Create a box plot for \"Steps Taken\"\n",
    "plt.boxplot(df['steps_taken'])\n",
    "\n",
    "# Set the title and labels\n",
    "plt.title('Box Plot of Steps Taken')\n",
    "plt.xlabel('Data')\n",
    "plt.ylabel('Steps Taken')\n",
    "\n",
    "# Rotate x-axis labels for better readability\n",
    "\n",
    "\n",
    "# Ensure proper layout and display the plot\n",
    "plt.tight_layout()\n",
    "plt.show()"
   ]
  },
  {
   "cell_type": "markdown",
   "id": "769c3beb",
   "metadata": {},
   "source": [
    "#### Observations\n",
    "\n",
    "- Most individuals appear to have a median daily step count around 10,000 as indicated by the orange line within the box.\n",
    "- The presence of an outlier at 15,000 indicates that there is at least one individual who took an exceptionally high number of steps. This could be due to various reasons, such as an unusually active day or a measurement error."
   ]
  },
  {
   "cell_type": "markdown",
   "id": "013b6cf8",
   "metadata": {},
   "source": [
    "\n",
    "## Task4: \n",
    "\n",
    "- Use the IQR method to identify and label outliers in the \"sleep_duration(hours)\" column."
   ]
  },
  {
   "cell_type": "code",
   "execution_count": 39,
   "id": "2e34ac45",
   "metadata": {},
   "outputs": [],
   "source": [
    "#defininig the function\n",
    "\n",
    "def find_lower_upper_limit(column):\n",
    "    q1, q3 = df[column].quantile([0.25, 0.75])\n",
    "    iqr = q3 - q1\n",
    "    lower = q1 - (1.5 * iqr)\n",
    "    upper = q3 + (1.5 * iqr)\n",
    "    return lower, upper\n",
    "    "
   ]
  },
  {
   "cell_type": "code",
   "execution_count": 41,
   "id": "d4687f98",
   "metadata": {},
   "outputs": [
    {
     "data": {
      "text/plain": [
       "(6.25, 8.25)"
      ]
     },
     "execution_count": 41,
     "metadata": {},
     "output_type": "execute_result"
    }
   ],
   "source": [
    "#get the lower and upper limits\n",
    "\n",
    "lower, upper = find_lower_upper_limit('sleep_duration(hours)')\n",
    "lower,upper"
   ]
  },
  {
   "cell_type": "code",
   "execution_count": 45,
   "id": "649abd15",
   "metadata": {},
   "outputs": [
    {
     "data": {
      "text/html": [
       "<div>\n",
       "<style scoped>\n",
       "    .dataframe tbody tr th:only-of-type {\n",
       "        vertical-align: middle;\n",
       "    }\n",
       "\n",
       "    .dataframe tbody tr th {\n",
       "        vertical-align: top;\n",
       "    }\n",
       "\n",
       "    .dataframe thead th {\n",
       "        text-align: right;\n",
       "    }\n",
       "</style>\n",
       "<table border=\"1\" class=\"dataframe\">\n",
       "  <thead>\n",
       "    <tr style=\"text-align: right;\">\n",
       "      <th></th>\n",
       "      <th>name</th>\n",
       "      <th>steps_taken</th>\n",
       "      <th>calories_burned</th>\n",
       "      <th>sleep_duration(hours)</th>\n",
       "      <th>water_intake(ounces)</th>\n",
       "    </tr>\n",
       "  </thead>\n",
       "  <tbody>\n",
       "    <tr>\n",
       "      <th>21</th>\n",
       "      <td>Elena</td>\n",
       "      <td>11700</td>\n",
       "      <td>4900</td>\n",
       "      <td>18.0</td>\n",
       "      <td>100</td>\n",
       "    </tr>\n",
       "    <tr>\n",
       "      <th>30</th>\n",
       "      <td>Siddharth</td>\n",
       "      <td>11300</td>\n",
       "      <td>4700</td>\n",
       "      <td>4.0</td>\n",
       "      <td>75</td>\n",
       "    </tr>\n",
       "  </tbody>\n",
       "</table>\n",
       "</div>"
      ],
      "text/plain": [
       "         name  steps_taken  calories_burned  sleep_duration(hours)  \\\n",
       "21      Elena        11700             4900                   18.0   \n",
       "30  Siddharth        11300             4700                    4.0   \n",
       "\n",
       "    water_intake(ounces)  \n",
       "21                   100  \n",
       "30                    75  "
      ]
     },
     "execution_count": 45,
     "metadata": {},
     "output_type": "execute_result"
    }
   ],
   "source": [
    "# Identify and label outliers\n",
    "outliers = df[(df['sleep_duration(hours)'] < lower) | (df['sleep_duration(hours)'] > upper)]\n",
    "\n",
    "\n",
    "# Display the outliers\n",
    "outliers"
   ]
  },
  {
   "cell_type": "code",
   "execution_count": null,
   "id": "33b4796f-9a48-4910-9d25-f915b0d6a49b",
   "metadata": {},
   "outputs": [],
   "source": []
  }
 ],
 "metadata": {
  "kernelspec": {
   "display_name": "Python 3 (ipykernel)",
   "language": "python",
   "name": "python3"
  },
  "language_info": {
   "codemirror_mode": {
    "name": "ipython",
    "version": 3
   },
   "file_extension": ".py",
   "mimetype": "text/x-python",
   "name": "python",
   "nbconvert_exporter": "python",
   "pygments_lexer": "ipython3",
   "version": "3.13.1"
  }
 },
 "nbformat": 4,
 "nbformat_minor": 5
}
