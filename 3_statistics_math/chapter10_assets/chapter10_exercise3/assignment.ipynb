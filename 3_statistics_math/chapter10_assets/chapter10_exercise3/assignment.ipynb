{
 "cells": [
  {
   "cell_type": "markdown",
   "id": "d4c0260f",
   "metadata": {},
   "source": [
    "## Problem Statement\n",
    "\n",
    "An e-commerce company is evaluating two different website designs to see which one results in higher customer engagement. Design A is the current design, while Design B incorporates new features aimed at improving user experience. The company hypothesizes that Design B will lead to a higher average time spent on the website by users.\n",
    "\n",
    "**Datasets:**\n",
    "- current_design.csv: Contains data for user interactions with the current website design (Design A), with columns user_id and time_spent_minutes.\n",
    "- new_design.csv: Contains data for user interactions with the new website design (Design B), with columns user_id and time_spent_minutes.\n",
    "\n",
    "**Objective:**\n",
    "- To determine whether Design B results in a higher average time spent on the website compared to Design A."
   ]
  },
  {
   "cell_type": "code",
   "execution_count": null,
   "id": "39a3e359",
   "metadata": {},
   "outputs": [],
   "source": []
  },
  {
   "cell_type": "markdown",
   "id": "b946b9ad",
   "metadata": {},
   "source": [
    "**Steps to perform:**\n",
    "- Set the null and alternate hypothesis for this analysis.\n",
    "- Load the datasets current_design.csv and new_design.csv.\n",
    "- Calculate the mean and standard deviation of the time spent for both designs.\n",
    "- Determine the sizes of both groups.\n",
    "- Calculate the z-score to compare the means of both groups.\n",
    "- Set the significance level (alpha) at 5% for a right-tailed test.\n",
    "- Calculate the critical z-value for the right-tailed test at the 5% significance level.\n",
    "- Compare the calculated z-score with the critical z-value to decide whether to reject the null hypothesis.\n",
    "- Write down your observations in the end."
   ]
  },
  {
   "cell_type": "markdown",
   "id": "ae3dfabc",
   "metadata": {},
   "source": [
    "**Import Necessary Libraries**"
   ]
  },
  {
   "cell_type": "code",
   "execution_count": 1,
   "id": "55ce8a7f",
   "metadata": {},
   "outputs": [],
   "source": [
    "import pandas as pd\n",
    "import numpy as np\n",
    "import scipy.stats as st"
   ]
  },
  {
   "cell_type": "markdown",
   "id": "659d9a03",
   "metadata": {},
   "source": [
    "**Define hypothesis**\n",
    "\n"
   ]
  },
  {
   "cell_type": "markdown",
   "id": "6d6fc04a-0686-477e-8256-2ebc7ee6cffc",
   "metadata": {},
   "source": [
    "1. Null -> Design A and B has same time. \n",
    "2. Alternate -> Design B results in a higher average time spent on the website compared to Design A."
   ]
  },
  {
   "cell_type": "markdown",
   "id": "701b1225",
   "metadata": {},
   "source": [
    "**1: Load the datasets**"
   ]
  },
  {
   "cell_type": "code",
   "execution_count": 2,
   "id": "091fccee",
   "metadata": {},
   "outputs": [],
   "source": [
    "control = pd.read_csv('current_design.csv')\n",
    "test = pd.read_csv('new_design.csv')"
   ]
  },
  {
   "cell_type": "code",
   "execution_count": 3,
   "id": "c6b21acf-babb-450b-869e-a05b902f7c94",
   "metadata": {},
   "outputs": [
    {
     "data": {
      "text/html": [
       "<div>\n",
       "<style scoped>\n",
       "    .dataframe tbody tr th:only-of-type {\n",
       "        vertical-align: middle;\n",
       "    }\n",
       "\n",
       "    .dataframe tbody tr th {\n",
       "        vertical-align: top;\n",
       "    }\n",
       "\n",
       "    .dataframe thead th {\n",
       "        text-align: right;\n",
       "    }\n",
       "</style>\n",
       "<table border=\"1\" class=\"dataframe\">\n",
       "  <thead>\n",
       "    <tr style=\"text-align: right;\">\n",
       "      <th></th>\n",
       "      <th>user_id</th>\n",
       "      <th>time_spent_minutes</th>\n",
       "    </tr>\n",
       "  </thead>\n",
       "  <tbody>\n",
       "    <tr>\n",
       "      <th>0</th>\n",
       "      <td>C001</td>\n",
       "      <td>5.93</td>\n",
       "    </tr>\n",
       "    <tr>\n",
       "      <th>1</th>\n",
       "      <td>C002</td>\n",
       "      <td>5.21</td>\n",
       "    </tr>\n",
       "    <tr>\n",
       "      <th>2</th>\n",
       "      <td>C003</td>\n",
       "      <td>5.07</td>\n",
       "    </tr>\n",
       "    <tr>\n",
       "      <th>3</th>\n",
       "      <td>C004</td>\n",
       "      <td>5.06</td>\n",
       "    </tr>\n",
       "    <tr>\n",
       "      <th>4</th>\n",
       "      <td>C005</td>\n",
       "      <td>6.33</td>\n",
       "    </tr>\n",
       "  </tbody>\n",
       "</table>\n",
       "</div>"
      ],
      "text/plain": [
       "  user_id  time_spent_minutes\n",
       "0    C001                5.93\n",
       "1    C002                5.21\n",
       "2    C003                5.07\n",
       "3    C004                5.06\n",
       "4    C005                6.33"
      ]
     },
     "execution_count": 3,
     "metadata": {},
     "output_type": "execute_result"
    }
   ],
   "source": [
    "control.head()\n"
   ]
  },
  {
   "cell_type": "markdown",
   "id": "66ef2266",
   "metadata": {},
   "source": [
    "**2: Calculate the mean and standard deviation of the time spent for both designs.**"
   ]
  },
  {
   "cell_type": "code",
   "execution_count": 5,
   "id": "c074aa36",
   "metadata": {},
   "outputs": [
    {
     "data": {
      "text/plain": [
       "(np.float64(6.02), np.float64(0.62), 100)"
      ]
     },
     "execution_count": 5,
     "metadata": {},
     "output_type": "execute_result"
    }
   ],
   "source": [
    "#control statistics\n",
    "\n",
    "control_mean = control.time_spent_minutes.mean().round(2)\n",
    "control_std = control.time_spent_minutes.std().round(2)\n",
    "control_size = control.shape[0]\n",
    "\n",
    "control_mean, control_std, control_size"
   ]
  },
  {
   "cell_type": "code",
   "execution_count": 6,
   "id": "bbadf26f",
   "metadata": {},
   "outputs": [
    {
     "data": {
      "text/plain": [
       "(np.float64(8.06), np.float64(0.9), 100)"
      ]
     },
     "execution_count": 6,
     "metadata": {},
     "output_type": "execute_result"
    }
   ],
   "source": [
    "#test statistics\n",
    "\n",
    "test_mean = test.time_spent_minutes.mean().round(2)\n",
    "test_std = test.time_spent_minutes.std().round(2)\n",
    "test_size = test.shape[0]\n",
    "\n",
    "test_mean, test_std, test_size"
   ]
  },
  {
   "cell_type": "markdown",
   "id": "534af8ed",
   "metadata": {},
   "source": [
    "**3: Test using rejection region (i.e. critical z value)**"
   ]
  },
  {
   "cell_type": "code",
   "execution_count": 7,
   "id": "ea9c7905",
   "metadata": {},
   "outputs": [],
   "source": [
    "a = control_std**2/control_size\n",
    "b = test_std**2/test_size"
   ]
  },
  {
   "cell_type": "code",
   "execution_count": 16,
   "id": "6c9e00bf-0bf2-4b7b-8e1c-4a1bbd7baa98",
   "metadata": {},
   "outputs": [
    {
     "data": {
      "text/plain": [
       "np.float64(18.67)"
      ]
     },
     "execution_count": 16,
     "metadata": {},
     "output_type": "execute_result"
    }
   ],
   "source": [
    "z_score = (control_mean - test_mean)/np.sqrt(a+b)\n",
    "z_score = abs(z_score).round(2)\n",
    "z_score"
   ]
  },
  {
   "cell_type": "code",
   "execution_count": 17,
   "id": "9d14bca7-04ef-488e-b8e0-20605abc169b",
   "metadata": {},
   "outputs": [],
   "source": [
    "alpha = 0.05"
   ]
  },
  {
   "cell_type": "code",
   "execution_count": 18,
   "id": "0363bc3d-49ae-4478-ab05-0873e5b923ce",
   "metadata": {},
   "outputs": [
    {
     "data": {
      "text/plain": [
       "np.float64(1.64)"
      ]
     },
     "execution_count": 18,
     "metadata": {},
     "output_type": "execute_result"
    }
   ],
   "source": [
    "critical_zscore = st.norm.ppf(1 - alpha).round(2)\n",
    "critical_zscore"
   ]
  },
  {
   "cell_type": "code",
   "execution_count": 20,
   "id": "64856fec-d644-45af-b10a-51a1a63e762a",
   "metadata": {},
   "outputs": [
    {
     "name": "stdout",
     "output_type": "stream",
     "text": [
      "True\n"
     ]
    }
   ],
   "source": [
    "print(z_score > critical_zscore)"
   ]
  },
  {
   "cell_type": "markdown",
   "id": "9b2d4612",
   "metadata": {},
   "source": [
    "### Observations and Conclusion\n",
    "\n"
   ]
  },
  {
   "cell_type": "markdown",
   "id": "31da2b05-51ac-4763-ad02-62dbc1555d13",
   "metadata": {},
   "source": [
    "we can reject the Null hypotheses and say Design B results in a higher average time spent on the website compared to Design A."
   ]
  },
  {
   "cell_type": "code",
   "execution_count": 22,
   "id": "6d42b55e-1506-49f0-944a-fa2bef1585e4",
   "metadata": {},
   "outputs": [],
   "source": [
    "p_value = 1 - st.norm.cdf(z_score)"
   ]
  },
  {
   "cell_type": "code",
   "execution_count": 23,
   "id": "88ead71f-d46e-456c-8739-4ac3e276da43",
   "metadata": {},
   "outputs": [
    {
     "data": {
      "text/plain": [
       "np.float64(0.0)"
      ]
     },
     "execution_count": 23,
     "metadata": {},
     "output_type": "execute_result"
    }
   ],
   "source": [
    "p_value"
   ]
  },
  {
   "cell_type": "code",
   "execution_count": 24,
   "id": "6dcc8cc0-ae70-4354-8a60-8c1820d09863",
   "metadata": {},
   "outputs": [
    {
     "name": "stdout",
     "output_type": "stream",
     "text": [
      "True\n"
     ]
    }
   ],
   "source": [
    "print(p_value < alpha)"
   ]
  },
  {
   "cell_type": "code",
   "execution_count": null,
   "id": "8c320614-8a99-4627-85ad-2d5ae5ecc702",
   "metadata": {},
   "outputs": [],
   "source": []
  }
 ],
 "metadata": {
  "kernelspec": {
   "display_name": "Python 3 (ipykernel)",
   "language": "python",
   "name": "python3"
  },
  "language_info": {
   "codemirror_mode": {
    "name": "ipython",
    "version": 3
   },
   "file_extension": ".py",
   "mimetype": "text/x-python",
   "name": "python",
   "nbconvert_exporter": "python",
   "pygments_lexer": "ipython3",
   "version": "3.13.1"
  }
 },
 "nbformat": 4,
 "nbformat_minor": 5
}
