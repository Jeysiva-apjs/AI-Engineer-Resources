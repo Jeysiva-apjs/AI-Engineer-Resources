{
 "cells": [
  {
   "cell_type": "code",
   "execution_count": 10,
   "id": "f024ea44-8b6b-473e-9e03-b9250e144b48",
   "metadata": {},
   "outputs": [],
   "source": [
    "import numpy as np\n",
    "import matplotlib.pyplot as plt\n",
    "from sklearn.datasets import make_classification\n",
    "from sklearn.linear_model import LogisticRegression\n",
    "from sklearn.model_selection import train_test_split\n",
    "\n",
    "X, y = make_classification(\n",
    "    n_features=10, \n",
    "    n_samples=1000, \n",
    "    n_informative=4,\n",
    "    n_redundant=6,\n",
    "    n_repeated=0,\n",
    "    n_classes=2, \n",
    "    random_state=42\n",
    ")\n",
    "\n",
    "# Split data into training and test sets\n",
    "X_train, X_test, y_train, y_test = train_test_split(X, y, test_size=0.25, random_state=42)"
   ]
  },
  {
   "cell_type": "code",
   "execution_count": 11,
   "id": "d87b6624-8b5c-4d52-a97a-2cff10dbb2ae",
   "metadata": {},
   "outputs": [
    {
     "name": "stdout",
     "output_type": "stream",
     "text": [
      "              precision    recall  f1-score   support\n",
      "\n",
      "           0       0.66      0.69      0.67       122\n",
      "           1       0.69      0.66      0.68       128\n",
      "\n",
      "    accuracy                           0.68       250\n",
      "   macro avg       0.68      0.68      0.68       250\n",
      "weighted avg       0.68      0.68      0.68       250\n",
      "\n"
     ]
    }
   ],
   "source": [
    "from sklearn.metrics import classification_report\n",
    "\n",
    "model = LogisticRegression()\n",
    "model.fit(X_train, y_train)\n",
    "\n",
    "y_pred = model.predict(X_test)\n",
    "report = classification_report(y_test, y_pred)\n",
    "print(report)"
   ]
  },
  {
   "cell_type": "code",
   "execution_count": 12,
   "id": "b9d2a682-af3f-4c91-930d-fa98829ba812",
   "metadata": {},
   "outputs": [
    {
     "data": {
      "text/plain": [
       "array([1, 1, 1, 0, 0, 0, 0, 1, 0, 0, 0, 1, 1, 1, 0, 0, 1, 0, 0, 0, 0, 1,\n",
       "       0, 1, 1, 1, 1, 0, 1, 0, 0, 0, 1, 1, 0, 0, 0, 0, 0, 1, 0, 0, 0, 0,\n",
       "       0, 1, 1, 0, 0, 1, 1, 1, 0, 1, 0, 0, 1, 1, 1, 1, 0, 1, 0, 0, 0, 0,\n",
       "       1, 1, 0, 1, 0, 0, 0, 0, 0, 1, 1, 1, 1, 1, 1, 0, 0, 1, 0, 1, 1, 0,\n",
       "       0, 1, 1, 0, 1, 1, 1, 1, 1, 0, 0, 1, 0, 0, 1, 0, 0, 0, 1, 1, 0, 0,\n",
       "       0, 0, 0, 0, 0, 0, 1, 1, 0, 0, 1, 0, 0, 1, 1, 1, 0, 0, 0, 1, 0, 0,\n",
       "       1, 0, 1, 1, 0, 1, 1, 0, 0, 0, 1, 0, 1, 0, 1, 0, 1, 1, 0, 0, 1, 0,\n",
       "       1, 0, 1, 0, 0, 1, 0, 1, 1, 1, 1, 1, 0, 1, 0, 1, 0, 1, 0, 0, 1, 1,\n",
       "       0, 1, 1, 1, 1, 0, 1, 1, 1, 0, 0, 0, 1, 1, 0, 1, 1, 0, 1, 0, 0, 0,\n",
       "       0, 0, 0, 1, 0, 0, 1, 1, 0, 0, 1, 0, 1, 0, 1, 1, 0, 1, 1, 1, 0, 0,\n",
       "       1, 0, 1, 1, 1, 1, 1, 0, 0, 1, 1, 1, 0, 1, 0, 1, 1, 1, 1, 0, 0, 1,\n",
       "       0, 1, 0, 1, 0, 0, 1, 1])"
      ]
     },
     "execution_count": 12,
     "metadata": {},
     "output_type": "execute_result"
    }
   ],
   "source": [
    "y_pred"
   ]
  },
  {
   "cell_type": "code",
   "execution_count": 13,
   "id": "b949a129-054d-4658-8c4c-08e6e39e3ea1",
   "metadata": {},
   "outputs": [
    {
     "name": "stdout",
     "output_type": "stream",
     "text": [
      "              precision    recall  f1-score   support\n",
      "\n",
      "           0       0.75      0.57      0.65       122\n",
      "           1       0.67      0.82      0.74       128\n",
      "\n",
      "    accuracy                           0.70       250\n",
      "   macro avg       0.71      0.70      0.69       250\n",
      "weighted avg       0.71      0.70      0.70       250\n",
      "\n"
     ]
    }
   ],
   "source": [
    "p = model.predict_proba(X_test)[:,1]\n",
    "\n",
    "y_pred = (p > 0.4).astype(int)\n",
    "\n",
    "report = classification_report(y_test, y_pred)\n",
    "print(report)"
   ]
  },
  {
   "cell_type": "code",
   "execution_count": 22,
   "id": "3dc20388-c115-45a2-b7b3-105aaf4b2835",
   "metadata": {},
   "outputs": [],
   "source": [
    "from sklearn.metrics import roc_curve\n",
    "\n",
    "fpr, tpr, thresholds = roc_curve(y_test, p)"
   ]
  },
  {
   "cell_type": "code",
   "execution_count": 25,
   "id": "a86e60f1-8ddd-4e25-8361-0751176b93eb",
   "metadata": {},
   "outputs": [
    {
     "data": {
      "text/plain": [
       "array([0.       , 0.0078125, 0.265625 , 0.265625 , 0.2890625, 0.2890625,\n",
       "       0.296875 , 0.296875 , 0.34375  , 0.34375  , 0.3515625, 0.3515625,\n",
       "       0.375    , 0.375    , 0.3984375, 0.3984375, 0.4296875, 0.4296875,\n",
       "       0.4375   , 0.4375   , 0.4609375, 0.4609375, 0.46875  , 0.46875  ,\n",
       "       0.4765625, 0.4765625, 0.484375 , 0.484375 , 0.4921875, 0.4921875,\n",
       "       0.5078125, 0.5078125, 0.515625 , 0.515625 , 0.5390625, 0.5390625,\n",
       "       0.5546875, 0.5546875, 0.5859375, 0.5859375, 0.625    , 0.625    ,\n",
       "       0.640625 , 0.640625 , 0.6484375, 0.6484375, 0.65625  , 0.65625  ,\n",
       "       0.71875  , 0.71875  , 0.75     , 0.75     , 0.7578125, 0.7578125,\n",
       "       0.765625 , 0.765625 , 0.7734375, 0.7734375, 0.7890625, 0.7890625,\n",
       "       0.796875 , 0.796875 , 0.84375  , 0.84375  , 0.8515625, 0.8515625,\n",
       "       0.859375 , 0.859375 , 0.8671875, 0.8671875, 0.875    , 0.875    ,\n",
       "       0.8828125, 0.8828125, 0.890625 , 0.890625 , 0.90625  , 0.90625  ,\n",
       "       0.9140625, 0.9140625, 0.921875 , 0.921875 , 0.9296875, 0.9296875,\n",
       "       0.9453125, 0.9453125, 0.9609375, 0.9609375, 0.96875  , 0.96875  ,\n",
       "       0.984375 , 0.984375 , 0.9921875, 0.9921875, 1.       , 1.       ])"
      ]
     },
     "execution_count": 25,
     "metadata": {},
     "output_type": "execute_result"
    }
   ],
   "source": [
    "tpr"
   ]
  },
  {
   "cell_type": "code",
   "execution_count": 41,
   "id": "a7759a4f-f8c1-4921-8c12-250f7df4db66",
   "metadata": {},
   "outputs": [
    {
     "data": {
      "text/plain": [
       "np.int64(60)"
      ]
     },
     "execution_count": 41,
     "metadata": {},
     "output_type": "execute_result"
    }
   ],
   "source": [
    "desired_recall = 0.8\n",
    "\n",
    "np.argmin(abs(tpr - desired_recall))"
   ]
  },
  {
   "cell_type": "code",
   "execution_count": 44,
   "id": "fe30162b-86f2-455a-99ff-329d80adedb7",
   "metadata": {},
   "outputs": [
    {
     "data": {
      "text/plain": [
       "(np.float64(0.42366894057938426), np.float64(0.4180327868852459))"
      ]
     },
     "execution_count": 44,
     "metadata": {},
     "output_type": "execute_result"
    }
   ],
   "source": [
    "thresholds[60], fpr[60]"
   ]
  },
  {
   "cell_type": "code",
   "execution_count": 43,
   "id": "16428347-77bc-45db-9803-d36f2ff9a185",
   "metadata": {},
   "outputs": [
    {
     "name": "stdout",
     "output_type": "stream",
     "text": [
      "              precision    recall  f1-score   support\n",
      "\n",
      "           0       0.73      0.30      0.42       122\n",
      "           1       0.57      0.90      0.70       128\n",
      "\n",
      "    accuracy                           0.60       250\n",
      "   macro avg       0.65      0.60      0.56       250\n",
      "weighted avg       0.65      0.60      0.56       250\n",
      "\n"
     ]
    }
   ],
   "source": [
    "y_pred = (p > 0.26349585272229664).astype(int)\n",
    "\n",
    "report = classification_report(y_test, y_pred)\n",
    "print(report)"
   ]
  },
  {
   "cell_type": "code",
   "execution_count": 32,
   "id": "abfbc8f6-71aa-46d0-b936-659bfbff8c5f",
   "metadata": {},
   "outputs": [
    {
     "data": {
      "text/plain": [
       "np.float64(0.764856557377049)"
      ]
     },
     "execution_count": 32,
     "metadata": {},
     "output_type": "execute_result"
    }
   ],
   "source": [
    "from sklearn.metrics import auc\n",
    "\n",
    "area = auc(fpr, tpr)\n",
    "area"
   ]
  },
  {
   "cell_type": "code",
   "execution_count": 40,
   "id": "38c8cfc8-c00a-4504-bdd3-e5c81eec87c0",
   "metadata": {},
   "outputs": [
    {
     "data": {
      "image/png": "[encoded data removed]",
      "text/plain": [
       "<Figure size 640x480 with 1 Axes>"
      ]
     },
     "metadata": {},
     "output_type": "display_data"
    }
   ],
   "source": [
    "plt.figure()\n",
    "plt.plot(fpr, tpr, color='darkorange', lw=2, label='ROC curve (area = %0.2f)' % area)\n",
    "plt.legend()\n",
    "plt.show()"
   ]
  },
  {
   "cell_type": "code",
   "execution_count": null,
   "id": "2269e300-fb9e-40b2-a76b-b5a8bdd7fb2d",
   "metadata": {},
   "outputs": [],
   "source": []
  }
 ],
 "metadata": {
  "kernelspec": {
   "display_name": "Python 3 (myenv)",
   "language": "python",
   "name": "myenv"
  },
  "language_info": {
   "codemirror_mode": {
    "name": "ipython",
    "version": 3
   },
   "file_extension": ".py",
   "mimetype": "text/x-python",
   "name": "python",
   "nbconvert_exporter": "python",
   "pygments_lexer": "ipython3",
   "version": "3.13.1"
  }
 },
 "nbformat": 4,
 "nbformat_minor": 5
}
